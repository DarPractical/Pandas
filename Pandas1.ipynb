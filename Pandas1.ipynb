{
 "cells": [
  {
   "cell_type": "markdown",
   "id": "00fdbf61-d72b-4d7c-a107-937672378981",
   "metadata": {},
   "source": [
    "# Q1. Create a Pandas Series that contains the following data: 4, 8, 15, 16, 23, and 42. Then, print the series."
   ]
  },
  {
   "cell_type": "code",
   "execution_count": 1,
   "id": "d7be770c-960f-4335-a3f8-a805471e8d2a",
   "metadata": {},
   "outputs": [],
   "source": [
    "import pandas as pd\n",
    "ds=pd.Series(\"4, 8, 15, 16, 23,42 \")"
   ]
  },
  {
   "cell_type": "code",
   "execution_count": 2,
   "id": "030b72fd-7d97-4f05-a568-f7780b5865b0",
   "metadata": {},
   "outputs": [
    {
     "data": {
      "text/plain": [
       "0    4, 8, 15, 16, 23,42 \n",
       "dtype: object"
      ]
     },
     "execution_count": 2,
     "metadata": {},
     "output_type": "execute_result"
    }
   ],
   "source": [
    "ds"
   ]
  },
  {
   "cell_type": "code",
   "execution_count": 3,
   "id": "d5174475-d848-484e-bc6d-0d9e188b9392",
   "metadata": {},
   "outputs": [
    {
     "data": {
      "text/plain": [
       "pandas.core.series.Series"
      ]
     },
     "execution_count": 3,
     "metadata": {},
     "output_type": "execute_result"
    }
   ],
   "source": [
    "type(ds)"
   ]
  },
  {
   "cell_type": "markdown",
   "id": "87d8eaf9-b6a6-4cc9-a93e-c25bf3fc51b2",
   "metadata": {},
   "source": [
    "# Q2. Create a variable of list type containing 10 elements in it, and apply pandas.Series function on the variable print it."
   ]
  },
  {
   "cell_type": "code",
   "execution_count": 4,
   "id": "da4fb56a-9970-4326-9c87-085e166377f7",
   "metadata": {},
   "outputs": [],
   "source": [
    "var=['Darshan','Roy','Bengaluru','Hello',3,6,'Pavagada','Karnataka','Pandas','India']\n",
    "data_series=pd.Series(var)"
   ]
  },
  {
   "cell_type": "code",
   "execution_count": 5,
   "id": "ad221f5f-ea7c-41c7-b876-db984a62305a",
   "metadata": {},
   "outputs": [
    {
     "data": {
      "text/plain": [
       "0      Darshan\n",
       "1          Roy\n",
       "2    Bengaluru\n",
       "3        Hello\n",
       "4            3\n",
       "5            6\n",
       "6     Pavagada\n",
       "7    Karnataka\n",
       "8       Pandas\n",
       "9        India\n",
       "dtype: object"
      ]
     },
     "execution_count": 5,
     "metadata": {},
     "output_type": "execute_result"
    }
   ],
   "source": [
    "data_series"
   ]
  },
  {
   "cell_type": "markdown",
   "id": "a5c2cb16-4546-4ce5-8a1e-ec0e63550146",
   "metadata": {},
   "source": [
    "# Q3\n"
   ]
  },
  {
   "cell_type": "code",
   "execution_count": 12,
   "id": "50371bd6-bc51-41ea-a0a1-8aab5d55fb7d",
   "metadata": {},
   "outputs": [],
   "source": [
    "data_frame=[\n",
    "    ['Name','Age','Gender'],\n",
    "    ['Alice',25,'Female'],\n",
    "    ['Bob',30,'Male'],\n",
    "    ['Roy',18,'Male']\n",
    "]\n",
    "\n",
    "data_frame_=pd.DataFrame(data_frame)"
   ]
  },
  {
   "cell_type": "code",
   "execution_count": 8,
   "id": "fa17a6de-9e2a-40c0-834d-27a00501debd",
   "metadata": {},
   "outputs": [
    {
     "data": {
      "text/html": [
       "<div>\n",
       "<style scoped>\n",
       "    .dataframe tbody tr th:only-of-type {\n",
       "        vertical-align: middle;\n",
       "    }\n",
       "\n",
       "    .dataframe tbody tr th {\n",
       "        vertical-align: top;\n",
       "    }\n",
       "\n",
       "    .dataframe thead th {\n",
       "        text-align: right;\n",
       "    }\n",
       "</style>\n",
       "<table border=\"1\" class=\"dataframe\">\n",
       "  <thead>\n",
       "    <tr style=\"text-align: right;\">\n",
       "      <th></th>\n",
       "      <th>0</th>\n",
       "      <th>1</th>\n",
       "      <th>2</th>\n",
       "    </tr>\n",
       "  </thead>\n",
       "  <tbody>\n",
       "    <tr>\n",
       "      <th>0</th>\n",
       "      <td>Name</td>\n",
       "      <td>Age</td>\n",
       "      <td>Gender</td>\n",
       "    </tr>\n",
       "    <tr>\n",
       "      <th>1</th>\n",
       "      <td>Alice</td>\n",
       "      <td>25</td>\n",
       "      <td>Female</td>\n",
       "    </tr>\n",
       "    <tr>\n",
       "      <th>2</th>\n",
       "      <td>Bob</td>\n",
       "      <td>30</td>\n",
       "      <td>Male</td>\n",
       "    </tr>\n",
       "    <tr>\n",
       "      <th>3</th>\n",
       "      <td>Roy</td>\n",
       "      <td>18</td>\n",
       "      <td>Male</td>\n",
       "    </tr>\n",
       "  </tbody>\n",
       "</table>\n",
       "</div>"
      ],
      "text/plain": [
       "       0    1       2\n",
       "0   Name  Age  Gender\n",
       "1  Alice   25  Female\n",
       "2    Bob   30    Male\n",
       "3    Roy   18    Male"
      ]
     },
     "execution_count": 8,
     "metadata": {},
     "output_type": "execute_result"
    }
   ],
   "source": [
    "data_frame_"
   ]
  },
  {
   "cell_type": "markdown",
   "id": "4f5d29ae-cea9-4fb1-9c33-23fdf74fb048",
   "metadata": {},
   "source": [
    "# Q4. What is ‘DataFrame’ in pandas and how is it different from pandas.series? Explain with an example."
   ]
  },
  {
   "cell_type": "markdown",
   "id": "7f2ece97-d7b9-4cda-8cdc-26099b57b8d4",
   "metadata": {},
   "source": [
    "Data_Frame: DataFrame in Pandas is equivalent to 'Tables', Wich means Collection of rows and Coloumns \n",
    "Data_Series: Data_Series is particular colucolumn wich have one type of datatype\n",
    "\n",
    "the major diffrence between Data_Frame and Data_Series is That Data_Frame is collection of rows and columns \n",
    "but Data_Series is Collection of single column \n",
    "\n",
    "\n",
    "conclusion:Data_Frame is like a 2D array and Data_Series is like a 1D array"
   ]
  },
  {
   "cell_type": "markdown",
   "id": "6aa8c9a6-a6f8-43c8-9ad6-18c248f618fa",
   "metadata": {},
   "source": [
    "# Q5. What are some common functions you can use to manipulate data in a Pandas DataFrame? Can you give an example of when you might use one of these functions?"
   ]
  },
  {
   "cell_type": "code",
   "execution_count": 18,
   "id": "7c3ac4fd-9f5d-4802-bc07-0ffa0a5b68a4",
   "metadata": {},
   "outputs": [],
   "source": [
    "# Data Manipulation on Data_Frames:\n",
    "import pandas as pd\n",
    "Data=pd.read_csv('Data.csv')\n",
    "\n",
    "\n",
    "\n"
   ]
  },
  {
   "cell_type": "code",
   "execution_count": 20,
   "id": "05e8dd90-4c67-4035-8152-e7defea7c7bf",
   "metadata": {},
   "outputs": [
    {
     "data": {
      "text/html": [
       "<div>\n",
       "<style scoped>\n",
       "    .dataframe tbody tr th:only-of-type {\n",
       "        vertical-align: middle;\n",
       "    }\n",
       "\n",
       "    .dataframe tbody tr th {\n",
       "        vertical-align: top;\n",
       "    }\n",
       "\n",
       "    .dataframe thead th {\n",
       "        text-align: right;\n",
       "    }\n",
       "</style>\n",
       "<table border=\"1\" class=\"dataframe\">\n",
       "  <thead>\n",
       "    <tr style=\"text-align: right;\">\n",
       "      <th></th>\n",
       "      <th>85321</th>\n",
       "      <th>176</th>\n",
       "      <th>Ajo Improvement Co</th>\n",
       "      <th>AZ</th>\n",
       "      <th>Bundled</th>\n",
       "      <th>Investor Owned</th>\n",
       "      <th>0.08789049919484701</th>\n",
       "      <th>0</th>\n",
       "      <th>0.09388714733542321</th>\n",
       "    </tr>\n",
       "  </thead>\n",
       "  <tbody>\n",
       "    <tr>\n",
       "      <th>0</th>\n",
       "      <td>36560</td>\n",
       "      <td>195</td>\n",
       "      <td>Alabama Power Co</td>\n",
       "      <td>AL</td>\n",
       "      <td>Bundled</td>\n",
       "      <td>Investor Owned</td>\n",
       "      <td>0.121895</td>\n",
       "      <td>0.063652</td>\n",
       "      <td>0.135057</td>\n",
       "    </tr>\n",
       "    <tr>\n",
       "      <th>1</th>\n",
       "      <td>36513</td>\n",
       "      <td>195</td>\n",
       "      <td>Alabama Power Co</td>\n",
       "      <td>AL</td>\n",
       "      <td>Bundled</td>\n",
       "      <td>Investor Owned</td>\n",
       "      <td>0.121895</td>\n",
       "      <td>0.063652</td>\n",
       "      <td>0.135057</td>\n",
       "    </tr>\n",
       "    <tr>\n",
       "      <th>2</th>\n",
       "      <td>36280</td>\n",
       "      <td>195</td>\n",
       "      <td>Alabama Power Co</td>\n",
       "      <td>AL</td>\n",
       "      <td>Bundled</td>\n",
       "      <td>Investor Owned</td>\n",
       "      <td>0.121895</td>\n",
       "      <td>0.063652</td>\n",
       "      <td>0.135057</td>\n",
       "    </tr>\n",
       "    <tr>\n",
       "      <th>3</th>\n",
       "      <td>35473</td>\n",
       "      <td>195</td>\n",
       "      <td>Alabama Power Co</td>\n",
       "      <td>AL</td>\n",
       "      <td>Bundled</td>\n",
       "      <td>Investor Owned</td>\n",
       "      <td>0.121895</td>\n",
       "      <td>0.063652</td>\n",
       "      <td>0.135057</td>\n",
       "    </tr>\n",
       "    <tr>\n",
       "      <th>4</th>\n",
       "      <td>35229</td>\n",
       "      <td>195</td>\n",
       "      <td>Alabama Power Co</td>\n",
       "      <td>AL</td>\n",
       "      <td>Bundled</td>\n",
       "      <td>Investor Owned</td>\n",
       "      <td>0.121895</td>\n",
       "      <td>0.063652</td>\n",
       "      <td>0.135057</td>\n",
       "    </tr>\n",
       "  </tbody>\n",
       "</table>\n",
       "</div>"
      ],
      "text/plain": [
       "   85321  176 Ajo Improvement Co  AZ  Bundled  Investor Owned  \\\n",
       "0  36560  195   Alabama Power Co  AL  Bundled  Investor Owned   \n",
       "1  36513  195   Alabama Power Co  AL  Bundled  Investor Owned   \n",
       "2  36280  195   Alabama Power Co  AL  Bundled  Investor Owned   \n",
       "3  35473  195   Alabama Power Co  AL  Bundled  Investor Owned   \n",
       "4  35229  195   Alabama Power Co  AL  Bundled  Investor Owned   \n",
       "\n",
       "   0.08789049919484701         0  0.09388714733542321  \n",
       "0             0.121895  0.063652             0.135057  \n",
       "1             0.121895  0.063652             0.135057  \n",
       "2             0.121895  0.063652             0.135057  \n",
       "3             0.121895  0.063652             0.135057  \n",
       "4             0.121895  0.063652             0.135057  "
      ]
     },
     "execution_count": 20,
     "metadata": {},
     "output_type": "execute_result"
    }
   ],
   "source": [
    "Data.head() #this shows upper values"
   ]
  },
  {
   "cell_type": "code",
   "execution_count": 21,
   "id": "33c1af98-3f25-4e23-9357-0ca7c7a9099a",
   "metadata": {},
   "outputs": [
    {
     "data": {
      "text/html": [
       "<div>\n",
       "<style scoped>\n",
       "    .dataframe tbody tr th:only-of-type {\n",
       "        vertical-align: middle;\n",
       "    }\n",
       "\n",
       "    .dataframe tbody tr th {\n",
       "        vertical-align: top;\n",
       "    }\n",
       "\n",
       "    .dataframe thead th {\n",
       "        text-align: right;\n",
       "    }\n",
       "</style>\n",
       "<table border=\"1\" class=\"dataframe\">\n",
       "  <thead>\n",
       "    <tr style=\"text-align: right;\">\n",
       "      <th></th>\n",
       "      <th>85321</th>\n",
       "      <th>176</th>\n",
       "      <th>Ajo Improvement Co</th>\n",
       "      <th>AZ</th>\n",
       "      <th>Bundled</th>\n",
       "      <th>Investor Owned</th>\n",
       "      <th>0.08789049919484701</th>\n",
       "      <th>0</th>\n",
       "      <th>0.09388714733542321</th>\n",
       "    </tr>\n",
       "  </thead>\n",
       "  <tbody>\n",
       "    <tr>\n",
       "      <th>63</th>\n",
       "      <td>35475</td>\n",
       "      <td>195</td>\n",
       "      <td>Alabama Power Co</td>\n",
       "      <td>AL</td>\n",
       "      <td>Bundled</td>\n",
       "      <td>Investor Owned</td>\n",
       "      <td>0.121895</td>\n",
       "      <td>0.063652</td>\n",
       "      <td>0.135057</td>\n",
       "    </tr>\n",
       "    <tr>\n",
       "      <th>64</th>\n",
       "      <td>36523</td>\n",
       "      <td>195</td>\n",
       "      <td>Alabama Power Co</td>\n",
       "      <td>AL</td>\n",
       "      <td>Bundled</td>\n",
       "      <td>Investor Owned</td>\n",
       "      <td>0.121895</td>\n",
       "      <td>0.063652</td>\n",
       "      <td>0.135057</td>\n",
       "    </tr>\n",
       "    <tr>\n",
       "      <th>65</th>\n",
       "      <td>36040</td>\n",
       "      <td>195</td>\n",
       "      <td>Alabama Power Co</td>\n",
       "      <td>AL</td>\n",
       "      <td>Bundled</td>\n",
       "      <td>Investor Owned</td>\n",
       "      <td>0.121895</td>\n",
       "      <td>0.063652</td>\n",
       "      <td>0.135057</td>\n",
       "    </tr>\n",
       "    <tr>\n",
       "      <th>66</th>\n",
       "      <td>35957</td>\n",
       "      <td>195</td>\n",
       "      <td>Alabama Power Co</td>\n",
       "      <td>AL</td>\n",
       "      <td>Bundled</td>\n",
       "      <td>Investor Owned</td>\n",
       "      <td>0.121895</td>\n",
       "      <td>0.063652</td>\n",
       "      <td>0.135057</td>\n",
       "    </tr>\n",
       "    <tr>\n",
       "      <th>67</th>\n",
       "      <td>36502</td>\n",
       "      <td>195</td>\n",
       "      <td>Alabama Power Co</td>\n",
       "      <td>AL</td>\n",
       "      <td>Bundled</td>\n",
       "      <td>Investor Owned</td>\n",
       "      <td>0.121895</td>\n",
       "      <td>0.063652</td>\n",
       "      <td>0.135057</td>\n",
       "    </tr>\n",
       "  </tbody>\n",
       "</table>\n",
       "</div>"
      ],
      "text/plain": [
       "    85321  176 Ajo Improvement Co  AZ  Bundled  Investor Owned  \\\n",
       "63  35475  195   Alabama Power Co  AL  Bundled  Investor Owned   \n",
       "64  36523  195   Alabama Power Co  AL  Bundled  Investor Owned   \n",
       "65  36040  195   Alabama Power Co  AL  Bundled  Investor Owned   \n",
       "66  35957  195   Alabama Power Co  AL  Bundled  Investor Owned   \n",
       "67  36502  195   Alabama Power Co  AL  Bundled  Investor Owned   \n",
       "\n",
       "    0.08789049919484701         0  0.09388714733542321  \n",
       "63             0.121895  0.063652             0.135057  \n",
       "64             0.121895  0.063652             0.135057  \n",
       "65             0.121895  0.063652             0.135057  \n",
       "66             0.121895  0.063652             0.135057  \n",
       "67             0.121895  0.063652             0.135057  "
      ]
     },
     "execution_count": 21,
     "metadata": {},
     "output_type": "execute_result"
    }
   ],
   "source": [
    "Data.tail() #shows the Last few Values among The file"
   ]
  },
  {
   "cell_type": "code",
   "execution_count": 22,
   "id": "09d3da15-1a2e-4f68-93eb-d2987c3afd00",
   "metadata": {},
   "outputs": [
    {
     "name": "stdout",
     "output_type": "stream",
     "text": [
      "<class 'pandas.core.frame.DataFrame'>\n",
      "RangeIndex: 68 entries, 0 to 67\n",
      "Data columns (total 9 columns):\n",
      " #   Column               Non-Null Count  Dtype  \n",
      "---  ------               --------------  -----  \n",
      " 0   85321                68 non-null     int64  \n",
      " 1   176                  68 non-null     int64  \n",
      " 2   Ajo Improvement Co   68 non-null     object \n",
      " 3   AZ                   68 non-null     object \n",
      " 4   Bundled              68 non-null     object \n",
      " 5   Investor Owned       68 non-null     object \n",
      " 6   0.08789049919484701  68 non-null     float64\n",
      " 7   0                    68 non-null     float64\n",
      " 8   0.09388714733542321  68 non-null     float64\n",
      "dtypes: float64(3), int64(2), object(4)\n",
      "memory usage: 4.9+ KB\n"
     ]
    }
   ],
   "source": [
    "Data.info() # gives the information"
   ]
  },
  {
   "cell_type": "code",
   "execution_count": 23,
   "id": "204808ee-dfd2-434d-b4b5-7483107b7c93",
   "metadata": {},
   "outputs": [
    {
     "data": {
      "text/html": [
       "<div>\n",
       "<style scoped>\n",
       "    .dataframe tbody tr th:only-of-type {\n",
       "        vertical-align: middle;\n",
       "    }\n",
       "\n",
       "    .dataframe tbody tr th {\n",
       "        vertical-align: top;\n",
       "    }\n",
       "\n",
       "    .dataframe thead th {\n",
       "        text-align: right;\n",
       "    }\n",
       "</style>\n",
       "<table border=\"1\" class=\"dataframe\">\n",
       "  <thead>\n",
       "    <tr style=\"text-align: right;\">\n",
       "      <th></th>\n",
       "      <th>85321</th>\n",
       "      <th>176</th>\n",
       "      <th>0.08789049919484701</th>\n",
       "      <th>0</th>\n",
       "      <th>0.09388714733542321</th>\n",
       "    </tr>\n",
       "  </thead>\n",
       "  <tbody>\n",
       "    <tr>\n",
       "      <th>count</th>\n",
       "      <td>68.000000</td>\n",
       "      <td>68.0</td>\n",
       "      <td>6.800000e+01</td>\n",
       "      <td>68.000000</td>\n",
       "      <td>6.800000e+01</td>\n",
       "    </tr>\n",
       "    <tr>\n",
       "      <th>mean</th>\n",
       "      <td>35948.941176</td>\n",
       "      <td>195.0</td>\n",
       "      <td>1.218951e-01</td>\n",
       "      <td>0.063652</td>\n",
       "      <td>1.350567e-01</td>\n",
       "    </tr>\n",
       "    <tr>\n",
       "      <th>std</th>\n",
       "      <td>606.702954</td>\n",
       "      <td>0.0</td>\n",
       "      <td>9.786679e-17</td>\n",
       "      <td>0.000000</td>\n",
       "      <td>1.957336e-16</td>\n",
       "    </tr>\n",
       "    <tr>\n",
       "      <th>min</th>\n",
       "      <td>35004.000000</td>\n",
       "      <td>195.0</td>\n",
       "      <td>1.218951e-01</td>\n",
       "      <td>0.063652</td>\n",
       "      <td>1.350567e-01</td>\n",
       "    </tr>\n",
       "    <tr>\n",
       "      <th>25%</th>\n",
       "      <td>35388.750000</td>\n",
       "      <td>195.0</td>\n",
       "      <td>1.218951e-01</td>\n",
       "      <td>0.063652</td>\n",
       "      <td>1.350567e-01</td>\n",
       "    </tr>\n",
       "    <tr>\n",
       "      <th>50%</th>\n",
       "      <td>36042.500000</td>\n",
       "      <td>195.0</td>\n",
       "      <td>1.218951e-01</td>\n",
       "      <td>0.063652</td>\n",
       "      <td>1.350567e-01</td>\n",
       "    </tr>\n",
       "    <tr>\n",
       "      <th>75%</th>\n",
       "      <td>36502.750000</td>\n",
       "      <td>195.0</td>\n",
       "      <td>1.218951e-01</td>\n",
       "      <td>0.063652</td>\n",
       "      <td>1.350567e-01</td>\n",
       "    </tr>\n",
       "    <tr>\n",
       "      <th>max</th>\n",
       "      <td>36855.000000</td>\n",
       "      <td>195.0</td>\n",
       "      <td>1.218951e-01</td>\n",
       "      <td>0.063652</td>\n",
       "      <td>1.350567e-01</td>\n",
       "    </tr>\n",
       "  </tbody>\n",
       "</table>\n",
       "</div>"
      ],
      "text/plain": [
       "              85321    176  0.08789049919484701          0  \\\n",
       "count     68.000000   68.0         6.800000e+01  68.000000   \n",
       "mean   35948.941176  195.0         1.218951e-01   0.063652   \n",
       "std      606.702954    0.0         9.786679e-17   0.000000   \n",
       "min    35004.000000  195.0         1.218951e-01   0.063652   \n",
       "25%    35388.750000  195.0         1.218951e-01   0.063652   \n",
       "50%    36042.500000  195.0         1.218951e-01   0.063652   \n",
       "75%    36502.750000  195.0         1.218951e-01   0.063652   \n",
       "max    36855.000000  195.0         1.218951e-01   0.063652   \n",
       "\n",
       "       0.09388714733542321  \n",
       "count         6.800000e+01  \n",
       "mean          1.350567e-01  \n",
       "std           1.957336e-16  \n",
       "min           1.350567e-01  \n",
       "25%           1.350567e-01  \n",
       "50%           1.350567e-01  \n",
       "75%           1.350567e-01  \n",
       "max           1.350567e-01  "
      ]
     },
     "execution_count": 23,
     "metadata": {},
     "output_type": "execute_result"
    }
   ],
   "source": [
    "Data.describe()  # Computes statistics of the numerical columns in the DataFrame\n"
   ]
  },
  {
   "cell_type": "markdown",
   "id": "92f87379-3b1c-4a24-822f-ee59dd0e5642",
   "metadata": {},
   "source": [
    "# Q6. Which of the following is mutable in nature Series, DataFrame, Panel?"
   ]
  },
  {
   "cell_type": "markdown",
   "id": "5339cf78-3ff0-4eef-b667-98deb66f67e2",
   "metadata": {},
   "source": [
    "All are mutable in nature\n",
    "\n",
    "Panel: A Panel is a three-dimensional data structure, deprecated in pandas. It used to be mutable and allowed for working with three-dimensional data"
   ]
  },
  {
   "cell_type": "markdown",
   "id": "931ecd1c-feed-41d7-af05-bcb2f34c231a",
   "metadata": {},
   "source": [
    "# Q7. Create a DataFrame using multiple Series. Explain with an example."
   ]
  },
  {
   "cell_type": "code",
   "execution_count": null,
   "id": "e241edae-ad53-4be4-8a87-e33dac8d251a",
   "metadata": {},
   "outputs": [],
   "source": []
  }
 ],
 "metadata": {
  "kernelspec": {
   "display_name": "Python 3 (ipykernel)",
   "language": "python",
   "name": "python3"
  },
  "language_info": {
   "codemirror_mode": {
    "name": "ipython",
    "version": 3
   },
   "file_extension": ".py",
   "mimetype": "text/x-python",
   "name": "python",
   "nbconvert_exporter": "python",
   "pygments_lexer": "ipython3",
   "version": "3.10.8"
  }
 },
 "nbformat": 4,
 "nbformat_minor": 5
}
